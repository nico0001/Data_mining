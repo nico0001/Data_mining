{
 "cells": [
  {
   "cell_type": "code",
   "execution_count": 13,
   "metadata": {},
   "outputs": [],
   "source": [
    "import numpy as np\n",
    "import pandas as pd\n",
    "import os"
   ]
  },
  {
   "cell_type": "code",
   "execution_count": 14,
   "metadata": {},
   "outputs": [],
   "source": [
    "from sklearn.preprocessing import StandardScaler\n",
    "def read(filepath):\n",
    "    try:\n",
    "        df = pd.DataFrame(columns=['number', 'id', 'time_sequence'])\n",
    "        lines = [line.strip() for line in open(filepath,'r')]\n",
    "        number = int(lines[1].split(\" \")[3])\n",
    "        id = int(lines[2].split(\" \")[3])\n",
    "        matrix = []\n",
    "        for i in range(5,len(lines)):\n",
    "            line = lines[i].split(\",\")\n",
    "            line = np.array(line).astype(np.float64)\n",
    "            matrix.append([ *line[:3]])\n",
    "        matrix=StandardScaler().fit_transform(matrix)\n",
    "        \n",
    "        df.loc[0] = [number, id, matrix]\n",
    "        return df\n",
    "    except IOError as e:\n",
    "        print(\"Unable to read dataset file!\\n\")"
   ]
  },
  {
   "cell_type": "code",
   "execution_count": 15,
   "metadata": {},
   "outputs": [],
   "source": [
    "directory = 'Sketch-Data-master\\SketchData\\SketchData\\Domain01'\n",
    "\n",
    "df = pd.DataFrame(columns=['number', 'id', 'time_sequence'])\n",
    "for filename in range(1,1001):\n",
    "    f = os.path.join(directory, str(filename)+\".txt\")\n",
    "    # checking if it is a file\n",
    "    if os.path.isfile(f):\n",
    "        df=pd.concat([df,read(f)], ignore_index=True)\n",
    "\n",
    "# min = 31\n",
    "#print(df)\n",
    "#df=preprocess(df)\n",
    "#print(df)"
   ]
  },
  {
   "cell_type": "code",
   "execution_count": 16,
   "metadata": {},
   "outputs": [],
   "source": [
    "def cross_validation_split():\n",
    "    dataset_split = []\n",
    "    for i in range(10):\n",
    "        fold=[x for x in range(100*i, 100*(i+1))]\n",
    "        other=[x for x in range(1000) if x not in fold]\n",
    "        dataset_split+=[(fold,other)]\n",
    "    return dataset_split\n"
   ]
  },
  {
   "cell_type": "code",
   "execution_count": 17,
   "metadata": {},
   "outputs": [],
   "source": [
    "\n",
    "def DTWdistance(data1,data2, w):\n",
    "    n=len(data1)\n",
    "    m=len(data2)\n",
    "    data2=StandardScaler().fit_transform(data2)\n",
    "\n",
    "    DTW=np.zeros((n,m))\n",
    "    w=max(w,abs(n-m))\n",
    "\n",
    "    for i in range(n):\n",
    "        for j in range(m):\n",
    "            DTW[i,j]=np.inf\n",
    "    DTW[0,0]=0\n",
    "\n",
    "    for i in range(1,n):\n",
    "        for j in range(max(1,i-w),min(m,i+w)):\n",
    "            DTW[i,j]=0\n",
    "    \n",
    "    for i in range(1,n):\n",
    "        for j in range(max(1,i-w),min(m,i+w)):\n",
    "            cost=distance(data1[i],data2[j])\n",
    "            DTW[i,j]=cost+np.min([DTW[i-1,j],#insertion\n",
    "                                DTW[i,j-1],#deletion\n",
    "                                DTW[i-1,j-1]])#match\n",
    "    \n",
    "    return DTW[n-1,m-1]\n",
    "\n",
    "def distance(a,b):\n",
    "    return np.linalg.norm(np.absolute(np.array(a)-np.array(b)))"
   ]
  },
  {
   "cell_type": "code",
   "execution_count": 18,
   "metadata": {},
   "outputs": [
    {
     "name": "stdout",
     "output_type": "stream",
     "text": [
      "105.63570164250409\n",
      "105.63570164250444\n",
      "36.78710609036752\n",
      "36.78710609036753\n",
      "308.42528688110923\n",
      "308.4252868811092\n",
      "111.2029524546965\n",
      "111.20295245469644\n",
      "154.8298415301501\n",
      "154.82984153014993\n"
     ]
    }
   ],
   "source": [
    "print(DTWdistance(df['time_sequence'][0],df['time_sequence'][1],1000))\n",
    "print(DTWdistance(df['time_sequence'][1],df['time_sequence'][0],1000))\n",
    "print(DTWdistance(df['time_sequence'][80],df['time_sequence'][81],100))\n",
    "print(DTWdistance(df['time_sequence'][81],df['time_sequence'][80],100))\n",
    "print(DTWdistance(df['time_sequence'][200],df['time_sequence'][281],100))\n",
    "print(DTWdistance(df['time_sequence'][281],df['time_sequence'][200],100))\n",
    "print(DTWdistance(df['time_sequence'][800],df['time_sequence'][810],100))\n",
    "print(DTWdistance(df['time_sequence'][810],df['time_sequence'][800],100))\n",
    "print(DTWdistance(df['time_sequence'][80],df['time_sequence'][810],100))\n",
    "print(DTWdistance(df['time_sequence'][810],df['time_sequence'][80],100))"
   ]
  },
  {
   "cell_type": "code",
   "execution_count": 19,
   "metadata": {},
   "outputs": [],
   "source": [
    "def get_neighbors(train, test_row, num_neighbors):\n",
    "\tdistances = list()\n",
    "\tfor train_row in train:\n",
    "\t\tdist = DTWdistance(test_row, train_row)\n",
    "\t\tdistances.append((train_row, dist))\n",
    "\tdistances.sort(key=lambda tup: tup[1])\n",
    "\tneighbors = list()\n",
    "\tfor i in range(num_neighbors):\n",
    "\t\tneighbors.append(distances[i][0])\n",
    "\treturn neighbors"
   ]
  },
  {
   "cell_type": "code",
   "execution_count": 20,
   "metadata": {},
   "outputs": [],
   "source": [
    "def dist_matrix(x):\n",
    "    dist_m = np.zeros((x.shape[0],x.shape[0]))\n",
    "    for i in range(x.shape[0]):\n",
    "        for j in range(i+1,x.shape[0]):\n",
    "            dist_m[i,j]=DTWdistance(x[i],x[j],100)\n",
    "            dist_m[j,i]=dist_m[i,j]\n",
    "        if i%50==0:\n",
    "            print(i/10, \"%\")\n",
    "    return dist_m\n",
    "\n"
   ]
  },
  {
   "cell_type": "code",
   "execution_count": 21,
   "metadata": {},
   "outputs": [],
   "source": [
    "#X = df[\"time_sequence\"].array\n",
    "#X=dist_matrix(X)\n",
    "#np.savetxt(\"dist_matrix2.csv\",X,delimiter=\",\")\n",
    "#print(X)\n",
    "X=np.genfromtxt(\"dist_matrix2.csv\",delimiter=\",\")\n",
    "for i in range(len(X)):\n",
    "    for j in range(len(X[i])):\n",
    "        if(X[i,j]==np.inf):\n",
    "            X[i,j]=99999999\n",
    "y = np.array(df[\"number\"].array,dtype=float)"
   ]
  },
  {
   "cell_type": "code",
   "execution_count": 22,
   "metadata": {},
   "outputs": [
    {
     "name": "stdout",
     "output_type": "stream",
     "text": [
      "Average accuracy KNN = 0.9190000000000002\n",
      "Standard Deviation KNN = 0.08802840450672726\n",
      "Median KNN = 0.9299999999999999\n",
      "[0.98, 0.85, 1.0, 1.0, 0.91, 0.7, 0.92, 0.94, 1.0, 0.89]\n"
     ]
    },
    {
     "data": {
      "text/plain": [
       "<sklearn.metrics._plot.confusion_matrix.ConfusionMatrixDisplay at 0x1cf81da9cc0>"
      ]
     },
     "execution_count": 22,
     "metadata": {},
     "output_type": "execute_result"
    },
    {
     "data": {
      "image/png": "[encoded data removed]",
      "text/plain": [
       "<Figure size 432x288 with 2 Axes>"
      ]
     },
     "metadata": {
      "needs_background": "light"
     },
     "output_type": "display_data"
    }
   ],
   "source": [
    "import matplotlib.pyplot as plt\n",
    "import seaborn as sns\n",
    "from matplotlib.colors import ListedColormap\n",
    "from sklearn import neighbors, datasets\n",
    "from sklearn.svm import SVC\n",
    "from sklearn.metrics import confusion_matrix, ConfusionMatrixDisplay\n",
    "\n",
    "n_neighbors = 5\n",
    "\n",
    "# we only take the first two features. We could avoid this ugly\n",
    "# slicing by using a two-dim dataset\n",
    "\n",
    "scores_KNN=[]\n",
    "scores_SVC=[]\n",
    "conf_matrix=np.zeros((10,10))\n",
    "for test_ind, train_ind in cross_validation_split():\n",
    "    x_train, y_train = X[train_ind], y[train_ind]\n",
    "    x_train=x_train[:,train_ind]\n",
    "    x_test, y_test = X[test_ind], y[test_ind]\n",
    "    x_test=x_test[:,train_ind]\n",
    "    #print(x_train)\n",
    "    clf = neighbors.KNeighborsClassifier(n_neighbors, metric=\"precomputed\")\n",
    "    clf.fit(x_train, y_train)\n",
    "    scores_KNN+=[clf.score(x_test,y_test)]\n",
    "    conf_matrix+=confusion_matrix(y_test,clf.predict(x_test))\n",
    "\n",
    "print(\"Average accuracy KNN = \"+str(np.mean(scores_KNN)))\n",
    "print(\"Standard Deviation KNN = \"+str(np.std(scores_KNN)))\n",
    "print(\"Median KNN = \"+str(np.median(scores_KNN)))\n",
    "print(scores_KNN)\n",
    "disp=ConfusionMatrixDisplay(conf_matrix)\n",
    "disp.plot()\n"
   ]
  },
  {
   "cell_type": "markdown",
   "metadata": {},
   "source": [
    "## Dollar Recognizer"
   ]
  },
  {
   "cell_type": "code",
   "execution_count": 23,
   "metadata": {},
   "outputs": [],
   "source": [
    "from DollarRecognizer import Recognizer, Template, Point"
   ]
  },
  {
   "cell_type": "code",
   "execution_count": 24,
   "metadata": {},
   "outputs": [
    {
     "name": "stdout",
     "output_type": "stream",
     "text": [
      "('1', 0.7944563865594279)\n",
      "('1', 0.9994352902287754)\n",
      "('3', 0.8557820421419222)\n",
      "('1', 0.7907301239586437)\n",
      "('2', 0.44259949332920423)\n",
      "('2', 0.5136634601595829)\n",
      "('2', 0.5448586975985112)\n",
      "('3', 0.6655859750148354)\n",
      "('2', 0.9995489513007179)\n",
      "('3', 0.7467564636785813)\n",
      "('3', 0.5479198232977927)\n",
      "('2', 0.8632274522802339)\n",
      "('3', 0.27524463138130206)\n",
      "('3', 0.5476320737680885)\n"
     ]
    }
   ],
   "source": [
    "tmpl_1 = Template('1',df['time_sequence'][100])\n",
    "tmpl_2 = Template('2',df['time_sequence'][110])\n",
    "tmpl_3 = Template('3',df['time_sequence'][120])\n",
    "recognizer = Recognizer([tmpl_1, tmpl_2, tmpl_3])\n",
    "result = recognizer.recognize(df['time_sequence'][0])\n",
    "print(result)\n",
    "result = recognizer.recognize(df['time_sequence'][100])\n",
    "print(result)\n",
    "result = recognizer.recognize(df['time_sequence'][200])\n",
    "print(result)\n",
    "result = recognizer.recognize(df['time_sequence'][300])\n",
    "print(result)\n",
    "result = recognizer.recognize(df['time_sequence'][400])\n",
    "print(result)\n",
    "result = recognizer.recognize(df['time_sequence'][500])\n",
    "print(result)\n",
    "result = recognizer.recognize(df['time_sequence'][600])\n",
    "print(result)\n",
    "result = recognizer.recognize(df['time_sequence'][10])\n",
    "print(result)\n",
    "result = recognizer.recognize(df['time_sequence'][110])\n",
    "print(result)\n",
    "result = recognizer.recognize(df['time_sequence'][210])\n",
    "print(result)\n",
    "result = recognizer.recognize(df['time_sequence'][310])\n",
    "print(result)\n",
    "result = recognizer.recognize(df['time_sequence'][410])\n",
    "print(result)\n",
    "result = recognizer.recognize(df['time_sequence'][510])\n",
    "print(result)\n",
    "result = recognizer.recognize(df['time_sequence'][610])\n",
    "print(result)"
   ]
  }
 ],
 "metadata": {
  "interpreter": {
   "hash": "9955c4e35847634d973329bf445c8e90329a92ad370b10f6eeb5c7b011ef9473"
  },
  "kernelspec": {
   "display_name": "Python 3.10.4 64-bit (windows store)",
   "language": "python",
   "name": "python3"
  },
  "language_info": {
   "codemirror_mode": {
    "name": "ipython",
    "version": 3
   },
   "file_extension": ".py",
   "mimetype": "text/x-python",
   "name": "python",
   "nbconvert_exporter": "python",
   "pygments_lexer": "ipython3",
   "version": "3.10.4"
  },
  "orig_nbformat": 4
 },
 "nbformat": 4,
 "nbformat_minor": 2
}
