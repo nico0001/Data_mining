{
 "cells": [
  {
   "cell_type": "code",
   "execution_count": 4,
   "metadata": {},
   "outputs": [],
   "source": [
    "import numpy as np\n",
    "import pandas as pd\n",
    "import os"
   ]
  },
  {
   "cell_type": "code",
   "execution_count": 5,
   "metadata": {},
   "outputs": [],
   "source": [
    "from sklearn.preprocessing import StandardScaler\n",
    "def read(filepath):\n",
    "    try:\n",
    "        df = pd.DataFrame(columns=['number', 'id', 'time_sequence'])\n",
    "        lines = [line.strip() for line in open(filepath,'r')]\n",
    "        number = int(lines[1].split(\" \")[3])\n",
    "        id = int(lines[2].split(\" \")[3])\n",
    "        matrix = []\n",
    "        for i in range(5,len(lines)):\n",
    "            line = lines[i].split(\",\")\n",
    "            line = np.array(line).astype(np.float64)\n",
    "            matrix.append([ *line[:3]])\n",
    "        matrix=StandardScaler().fit_transform(matrix)\n",
    "        \n",
    "        df.loc[0] = [number, id, matrix]\n",
    "        return df\n",
    "    except IOError as e:\n",
    "        print(\"Unable to read dataset file!\\n\")"
   ]
  },
  {
   "cell_type": "code",
   "execution_count": 6,
   "metadata": {},
   "outputs": [],
   "source": [
    "directory = 'Sketch-Data-master\\SketchData\\SketchData\\Domain01'\n",
    "\n",
    "df = pd.DataFrame(columns=['number', 'id', 'time_sequence'])\n",
    "for filename in os.listdir(directory):\n",
    "    f = os.path.join(directory, filename)\n",
    "    # checking if it is a file\n",
    "    if os.path.isfile(f):\n",
    "        df=pd.concat([df,read(f)], ignore_index=True)\n",
    "        '''le = len(read(f)[\"time_sequence\"].values[0])\n",
    "        if min > le:\n",
    "            if le==31:\n",
    "                print(f)\n",
    "            min = le'''\n",
    "# min = 31\n",
    "#print(df)\n",
    "#df=preprocess(df)\n",
    "#print(df)"
   ]
  },
  {
   "cell_type": "code",
   "execution_count": 7,
   "metadata": {},
   "outputs": [],
   "source": [
    "def cross_validation_split():\n",
    "    dataset_split = []\n",
    "    for i in range(10):\n",
    "        fold=[x for x in range(100*i, 100*(i+1))]\n",
    "        other=[x for x in range(1000) if x not in fold]\n",
    "        dataset_split+=[(fold,other)]\n",
    "    return dataset_split\n"
   ]
  },
  {
   "cell_type": "code",
   "execution_count": 8,
   "metadata": {},
   "outputs": [],
   "source": [
    "\n",
    "def DTWdistance(data1,data2, w):\n",
    "    n=len(data1)\n",
    "    m=len(data2)\n",
    "    data2=StandardScaler().fit_transform(data2)\n",
    "\n",
    "    DTW=np.zeros((n,m))\n",
    "    w=max(w,abs(n-m))\n",
    "\n",
    "    for i in range(n):\n",
    "        for j in range(m):\n",
    "            DTW[i,j]=np.inf\n",
    "    DTW[0,0]=0\n",
    "\n",
    "    for i in range(1,n):\n",
    "        for j in range(max(1,i-w),min(m,i+w)):\n",
    "            DTW[i,j]=0\n",
    "    \n",
    "    for i in range(1,n):\n",
    "        for j in range(max(1,i-w),min(m,i+w)):\n",
    "            cost=distance(data1[i],data2[j])\n",
    "            DTW[i,j]=cost+np.min([DTW[i-1,j],#insertion\n",
    "                                DTW[i,j-1],#deletion\n",
    "                                DTW[i-1,j-1]])#match\n",
    "    \n",
    "    return DTW[n-1,m-1]\n",
    "\n",
    "def distance(a,b):\n",
    "    return np.linalg.norm(np.absolute(np.array(a)-np.array(b)))"
   ]
  },
  {
   "cell_type": "code",
   "execution_count": 9,
   "metadata": {},
   "outputs": [
    {
     "name": "stdout",
     "output_type": "stream",
     "text": [
      "76.88554427518726\n",
      "76.88554427518713\n",
      "75.83859355552445\n",
      "75.83859355552444\n",
      "96.37773633895833\n",
      "96.37773633895824\n",
      "57.3736239673831\n",
      "57.37362396738302\n",
      "105.0731593997095\n",
      "105.07315939970923\n"
     ]
    }
   ],
   "source": [
    "print(DTWdistance(df['time_sequence'][0],df['time_sequence'][1],1000))\n",
    "print(DTWdistance(df['time_sequence'][1],df['time_sequence'][0],1000))\n",
    "print(DTWdistance(df['time_sequence'][80],df['time_sequence'][81],100))\n",
    "print(DTWdistance(df['time_sequence'][81],df['time_sequence'][80],100))\n",
    "print(DTWdistance(df['time_sequence'][200],df['time_sequence'][281],100))\n",
    "print(DTWdistance(df['time_sequence'][281],df['time_sequence'][200],100))\n",
    "print(DTWdistance(df['time_sequence'][800],df['time_sequence'][810],100))\n",
    "print(DTWdistance(df['time_sequence'][810],df['time_sequence'][800],100))\n",
    "print(DTWdistance(df['time_sequence'][80],df['time_sequence'][810],100))\n",
    "print(DTWdistance(df['time_sequence'][810],df['time_sequence'][80],100))"
   ]
  },
  {
   "cell_type": "code",
   "execution_count": 52,
   "metadata": {},
   "outputs": [],
   "source": [
    "def get_neighbors(train, test_row, num_neighbors):\n",
    "\tdistances = list()\n",
    "\tfor train_row in train:\n",
    "\t\tdist = DTWdistance(test_row, train_row)\n",
    "\t\tdistances.append((train_row, dist))\n",
    "\tdistances.sort(key=lambda tup: tup[1])\n",
    "\tneighbors = list()\n",
    "\tfor i in range(num_neighbors):\n",
    "\t\tneighbors.append(distances[i][0])\n",
    "\treturn neighbors"
   ]
  },
  {
   "cell_type": "code",
   "execution_count": 9,
   "metadata": {},
   "outputs": [],
   "source": [
    "def dist_matrix(x):\n",
    "    dist_m = np.zeros((x.shape[0],x.shape[0]))\n",
    "    for i in range(x.shape[0]):\n",
    "        for j in range(i+1,x.shape[0]):\n",
    "            dist_m[i,j]=DTWdistance(x[i],x[j],100)\n",
    "            dist_m[j,i]=dist_m[i,j]\n",
    "        if i%50==0:\n",
    "            print(i/10, \"%\")\n",
    "    return dist_m\n",
    "\n"
   ]
  },
  {
   "cell_type": "code",
   "execution_count": 10,
   "metadata": {},
   "outputs": [
    {
     "ename": "KeyboardInterrupt",
     "evalue": "",
     "output_type": "error",
     "traceback": [
      "\u001b[1;31m---------------------------------------------------------------------------\u001b[0m",
      "\u001b[1;31mKeyboardInterrupt\u001b[0m                         Traceback (most recent call last)",
      "\u001b[1;32mc:\\Users\\sophi\\Documents\\UCL\\M1Q2\\Data Mining\\Data_mining\\Project2\\main.ipynb Cell 9'\u001b[0m in \u001b[0;36m<cell line: 11>\u001b[1;34m()\u001b[0m\n\u001b[0;32m      <a href='vscode-notebook-cell:/c%3A/Users/sophi/Documents/UCL/M1Q2/Data%20Mining/Data_mining/Project2/main.ipynb#ch0000008?line=7'>8</a>\u001b[0m \u001b[39m# we only take the first two features. We could avoid this ugly\u001b[39;00m\n\u001b[0;32m      <a href='vscode-notebook-cell:/c%3A/Users/sophi/Documents/UCL/M1Q2/Data%20Mining/Data_mining/Project2/main.ipynb#ch0000008?line=8'>9</a>\u001b[0m \u001b[39m# slicing by using a two-dim dataset\u001b[39;00m\n\u001b[0;32m     <a href='vscode-notebook-cell:/c%3A/Users/sophi/Documents/UCL/M1Q2/Data%20Mining/Data_mining/Project2/main.ipynb#ch0000008?line=9'>10</a>\u001b[0m X \u001b[39m=\u001b[39m df[\u001b[39m\"\u001b[39m\u001b[39mtime_sequence\u001b[39m\u001b[39m\"\u001b[39m]\u001b[39m.\u001b[39marray\n\u001b[1;32m---> <a href='vscode-notebook-cell:/c%3A/Users/sophi/Documents/UCL/M1Q2/Data%20Mining/Data_mining/Project2/main.ipynb#ch0000008?line=10'>11</a>\u001b[0m X\u001b[39m=\u001b[39mdist_matrix(X)\n\u001b[0;32m     <a href='vscode-notebook-cell:/c%3A/Users/sophi/Documents/UCL/M1Q2/Data%20Mining/Data_mining/Project2/main.ipynb#ch0000008?line=11'>12</a>\u001b[0m np\u001b[39m.\u001b[39msavetxt(\u001b[39m\"\u001b[39m\u001b[39mdist_matrix.csv\u001b[39m\u001b[39m\"\u001b[39m,X,delimiter\u001b[39m=\u001b[39m\u001b[39m\"\u001b[39m\u001b[39m,\u001b[39m\u001b[39m\"\u001b[39m)\n\u001b[0;32m     <a href='vscode-notebook-cell:/c%3A/Users/sophi/Documents/UCL/M1Q2/Data%20Mining/Data_mining/Project2/main.ipynb#ch0000008?line=12'>13</a>\u001b[0m \u001b[39m#print(X)\u001b[39;00m\n\u001b[0;32m     <a href='vscode-notebook-cell:/c%3A/Users/sophi/Documents/UCL/M1Q2/Data%20Mining/Data_mining/Project2/main.ipynb#ch0000008?line=13'>14</a>\u001b[0m \u001b[39m#X=np.genfromtxt(\"dist_matrix.csv\",delimiter=\",\")\u001b[39;00m\n\u001b[0;32m     <a href='vscode-notebook-cell:/c%3A/Users/sophi/Documents/UCL/M1Q2/Data%20Mining/Data_mining/Project2/main.ipynb#ch0000008?line=14'>15</a>\u001b[0m \u001b[39m#y = np.array(df[\"number\"].array,dtype=float)\u001b[39;00m\n",
      "\u001b[1;32mc:\\Users\\sophi\\Documents\\UCL\\M1Q2\\Data Mining\\Data_mining\\Project2\\main.ipynb Cell 8'\u001b[0m in \u001b[0;36mdist_matrix\u001b[1;34m(x, filename)\u001b[0m\n\u001b[0;32m      <a href='vscode-notebook-cell:/c%3A/Users/sophi/Documents/UCL/M1Q2/Data%20Mining/Data_mining/Project2/main.ipynb#ch0000007?line=3'>4</a>\u001b[0m \u001b[39mfor\u001b[39;00m i \u001b[39min\u001b[39;00m \u001b[39mrange\u001b[39m(x\u001b[39m.\u001b[39mshape[\u001b[39m0\u001b[39m]):\n\u001b[0;32m      <a href='vscode-notebook-cell:/c%3A/Users/sophi/Documents/UCL/M1Q2/Data%20Mining/Data_mining/Project2/main.ipynb#ch0000007?line=4'>5</a>\u001b[0m     \u001b[39mfor\u001b[39;00m j \u001b[39min\u001b[39;00m \u001b[39mrange\u001b[39m(i\u001b[39m+\u001b[39m\u001b[39m1\u001b[39m,x\u001b[39m.\u001b[39mshape[\u001b[39m0\u001b[39m]):\n\u001b[1;32m----> <a href='vscode-notebook-cell:/c%3A/Users/sophi/Documents/UCL/M1Q2/Data%20Mining/Data_mining/Project2/main.ipynb#ch0000007?line=5'>6</a>\u001b[0m         dist_m[i,j]\u001b[39m=\u001b[39mDTWdistance(x[i],x[j],\u001b[39m100\u001b[39;49m)\n\u001b[0;32m      <a href='vscode-notebook-cell:/c%3A/Users/sophi/Documents/UCL/M1Q2/Data%20Mining/Data_mining/Project2/main.ipynb#ch0000007?line=6'>7</a>\u001b[0m         dist_m[j,i]\u001b[39m=\u001b[39mdist_m[i,j]\n\u001b[0;32m      <a href='vscode-notebook-cell:/c%3A/Users/sophi/Documents/UCL/M1Q2/Data%20Mining/Data_mining/Project2/main.ipynb#ch0000007?line=7'>8</a>\u001b[0m     f\u001b[39m.\u001b[39mwrite(dist_m[i]\u001b[39m+\u001b[39m\u001b[39m\"\u001b[39m\u001b[39m\\n\u001b[39;00m\u001b[39m\"\u001b[39m)\n",
      "\u001b[1;32mc:\\Users\\sophi\\Documents\\UCL\\M1Q2\\Data Mining\\Data_mining\\Project2\\main.ipynb Cell 5'\u001b[0m in \u001b[0;36mDTWdistance\u001b[1;34m(data1, data2, w)\u001b[0m\n\u001b[0;32m     <a href='vscode-notebook-cell:/c%3A/Users/sophi/Documents/UCL/M1Q2/Data%20Mining/Data_mining/Project2/main.ipynb#ch0000004?line=17'>18</a>\u001b[0m \u001b[39mfor\u001b[39;00m i \u001b[39min\u001b[39;00m \u001b[39mrange\u001b[39m(\u001b[39m1\u001b[39m,n):\n\u001b[0;32m     <a href='vscode-notebook-cell:/c%3A/Users/sophi/Documents/UCL/M1Q2/Data%20Mining/Data_mining/Project2/main.ipynb#ch0000004?line=18'>19</a>\u001b[0m     \u001b[39mfor\u001b[39;00m j \u001b[39min\u001b[39;00m \u001b[39mrange\u001b[39m(\u001b[39mmax\u001b[39m(\u001b[39m1\u001b[39m,i\u001b[39m-\u001b[39mw),\u001b[39mmin\u001b[39m(m,i\u001b[39m+\u001b[39mw)):\n\u001b[1;32m---> <a href='vscode-notebook-cell:/c%3A/Users/sophi/Documents/UCL/M1Q2/Data%20Mining/Data_mining/Project2/main.ipynb#ch0000004?line=19'>20</a>\u001b[0m         cost\u001b[39m=\u001b[39mdistance(data1[i],data2[j])\n\u001b[0;32m     <a href='vscode-notebook-cell:/c%3A/Users/sophi/Documents/UCL/M1Q2/Data%20Mining/Data_mining/Project2/main.ipynb#ch0000004?line=20'>21</a>\u001b[0m         DTW[i,j]\u001b[39m=\u001b[39mcost\u001b[39m+\u001b[39mnp\u001b[39m.\u001b[39mmin([DTW[i\u001b[39m-\u001b[39m\u001b[39m1\u001b[39m,j],\u001b[39m#insertion\u001b[39;00m\n\u001b[0;32m     <a href='vscode-notebook-cell:/c%3A/Users/sophi/Documents/UCL/M1Q2/Data%20Mining/Data_mining/Project2/main.ipynb#ch0000004?line=21'>22</a>\u001b[0m                             DTW[i,j\u001b[39m-\u001b[39m\u001b[39m1\u001b[39m],\u001b[39m#deletion\u001b[39;00m\n\u001b[0;32m     <a href='vscode-notebook-cell:/c%3A/Users/sophi/Documents/UCL/M1Q2/Data%20Mining/Data_mining/Project2/main.ipynb#ch0000004?line=22'>23</a>\u001b[0m                             DTW[i\u001b[39m-\u001b[39m\u001b[39m1\u001b[39m,j\u001b[39m-\u001b[39m\u001b[39m1\u001b[39m]])\u001b[39m#match\u001b[39;00m\n\u001b[0;32m     <a href='vscode-notebook-cell:/c%3A/Users/sophi/Documents/UCL/M1Q2/Data%20Mining/Data_mining/Project2/main.ipynb#ch0000004?line=24'>25</a>\u001b[0m \u001b[39mreturn\u001b[39;00m DTW[n\u001b[39m-\u001b[39m\u001b[39m1\u001b[39m,m\u001b[39m-\u001b[39m\u001b[39m1\u001b[39m]\n",
      "\u001b[1;32mc:\\Users\\sophi\\Documents\\UCL\\M1Q2\\Data Mining\\Data_mining\\Project2\\main.ipynb Cell 5'\u001b[0m in \u001b[0;36mdistance\u001b[1;34m(a, b)\u001b[0m\n\u001b[0;32m     <a href='vscode-notebook-cell:/c%3A/Users/sophi/Documents/UCL/M1Q2/Data%20Mining/Data_mining/Project2/main.ipynb#ch0000004?line=26'>27</a>\u001b[0m \u001b[39mdef\u001b[39;00m \u001b[39mdistance\u001b[39m(a,b):\n\u001b[1;32m---> <a href='vscode-notebook-cell:/c%3A/Users/sophi/Documents/UCL/M1Q2/Data%20Mining/Data_mining/Project2/main.ipynb#ch0000004?line=27'>28</a>\u001b[0m     \u001b[39mreturn\u001b[39;00m np\u001b[39m.\u001b[39;49mlinalg\u001b[39m.\u001b[39;49mnorm(np\u001b[39m.\u001b[39;49mabsolute(np\u001b[39m.\u001b[39;49marray(a)\u001b[39m-\u001b[39;49mnp\u001b[39m.\u001b[39;49marray(b)))\n",
      "File \u001b[1;32m<__array_function__ internals>:180\u001b[0m, in \u001b[0;36mnorm\u001b[1;34m(*args, **kwargs)\u001b[0m\n",
      "File \u001b[1;32m~\\AppData\\Local\\Packages\\PythonSoftwareFoundation.Python.3.10_qbz5n2kfra8p0\\LocalCache\\local-packages\\Python310\\site-packages\\numpy\\linalg\\linalg.py:2516\u001b[0m, in \u001b[0;36mnorm\u001b[1;34m(x, ord, axis, keepdims)\u001b[0m\n\u001b[0;32m   <a href='file:///c%3A/Users/sophi/AppData/Local/Packages/PythonSoftwareFoundation.Python.3.10_qbz5n2kfra8p0/LocalCache/local-packages/Python310/site-packages/numpy/linalg/linalg.py?line=2513'>2514</a>\u001b[0m     sqnorm \u001b[39m=\u001b[39m dot(x\u001b[39m.\u001b[39mreal, x\u001b[39m.\u001b[39mreal) \u001b[39m+\u001b[39m dot(x\u001b[39m.\u001b[39mimag, x\u001b[39m.\u001b[39mimag)\n\u001b[0;32m   <a href='file:///c%3A/Users/sophi/AppData/Local/Packages/PythonSoftwareFoundation.Python.3.10_qbz5n2kfra8p0/LocalCache/local-packages/Python310/site-packages/numpy/linalg/linalg.py?line=2514'>2515</a>\u001b[0m \u001b[39melse\u001b[39;00m:\n\u001b[1;32m-> <a href='file:///c%3A/Users/sophi/AppData/Local/Packages/PythonSoftwareFoundation.Python.3.10_qbz5n2kfra8p0/LocalCache/local-packages/Python310/site-packages/numpy/linalg/linalg.py?line=2515'>2516</a>\u001b[0m     sqnorm \u001b[39m=\u001b[39m dot(x, x)\n\u001b[0;32m   <a href='file:///c%3A/Users/sophi/AppData/Local/Packages/PythonSoftwareFoundation.Python.3.10_qbz5n2kfra8p0/LocalCache/local-packages/Python310/site-packages/numpy/linalg/linalg.py?line=2516'>2517</a>\u001b[0m ret \u001b[39m=\u001b[39m sqrt(sqnorm)\n\u001b[0;32m   <a href='file:///c%3A/Users/sophi/AppData/Local/Packages/PythonSoftwareFoundation.Python.3.10_qbz5n2kfra8p0/LocalCache/local-packages/Python310/site-packages/numpy/linalg/linalg.py?line=2517'>2518</a>\u001b[0m \u001b[39mif\u001b[39;00m keepdims:\n",
      "File \u001b[1;32m<__array_function__ internals>:180\u001b[0m, in \u001b[0;36mdot\u001b[1;34m(*args, **kwargs)\u001b[0m\n",
      "\u001b[1;31mKeyboardInterrupt\u001b[0m: "
     ]
    }
   ],
   "source": [
    "import matplotlib.pyplot as plt\n",
    "import seaborn as sns\n",
    "from matplotlib.colors import ListedColormap\n",
    "from sklearn import neighbors, datasets\n",
    "\n",
    "n_neighbors = 50\n",
    "\n",
    "# we only take the first two features. We could avoid this ugly\n",
    "# slicing by using a two-dim dataset\n",
    "X = df[\"time_sequence\"].array\n",
    "X=dist_matrix(X)\n",
    "np.savetxt(\"dist_matrix.csv\",X,delimiter=\",\")\n",
    "#print(X)\n",
    "#X=np.genfromtxt(\"dist_matrix.csv\",delimiter=\",\")\n",
    "y = np.array(df[\"number\"].array,dtype=float)\n",
    "scores=[]\n",
    "for test_ind, train_ind in cross_validation_split():\n",
    "    x_train, y_train = X[train_ind], y[train_ind]\n",
    "    x_train=x_train[:,train_ind]\n",
    "    x_test, y_test = X[test_ind], y[test_ind]\n",
    "    x_test=x_test[:,train_ind]\n",
    "    #print(x_train)\n",
    "    clf = neighbors.KNeighborsClassifier(n_neighbors, metric=\"precomputed\")\n",
    "    clf.fit(x_train, y_train)\n",
    "    scores+=[clf.score(x_test,y_test)]\n",
    "\n",
    "print(\"Average accuracy = \"+str(np.mean(scores)))\n",
    "print(\"Standard Deviation = \"+str(np.std(scores)))\n",
    "print(scores)\n",
    "\n",
    "\n",
    "'''h = 0.02  # step size in the mesh\n",
    "\n",
    "# Create color maps\n",
    "cmap_light = ListedColormap([\"orange\", \"cyan\", \"cornflowerblue\"])\n",
    "cmap_bold = [\"darkorange\", \"c\", \"darkblue\"]\n",
    "\n",
    "for weights in [DTWdistance]:\n",
    "    # we create an instance of Neighbours Classifier and fit the data.\n",
    "    clf = neighbors.KNeighborsClassifier(n_neighbors, weights=weights, metric=DTWdistance)\n",
    "    clf.fit(X, y)\n",
    "\n",
    "    # Plot the decision boundary. For that, we will assign a color to each\n",
    "    # point in the mesh [x_min, x_max]x[y_min, y_max].\n",
    "    x_min, x_max = X[:, 0].min() - 1, X[:, 0].max() + 1\n",
    "    y_min, y_max = X[:, 1].min() - 1, X[:, 1].max() + 1\n",
    "    xx, yy = np.meshgrid(np.arange(x_min, x_max, h), np.arange(y_min, y_max, h))\n",
    "    Z = clf.predict(np.c_[xx.ravel(), yy.ravel()])\n",
    "\n",
    "    # Put the result into a color plot\n",
    "    Z = Z.reshape(xx.shape)\n",
    "    plt.figure(figsize=(8, 6))\n",
    "    plt.contourf(xx, yy, Z) #cmap=cmap_light)\n",
    "\n",
    "    # Plot also the training points\n",
    "    sns.scatterplot(\n",
    "        x=X[:, 0],\n",
    "        y=X[:, 1],\n",
    "        #hue=iris.target_names[y],\n",
    "        palette=cmap_bold,\n",
    "        alpha=1.0,\n",
    "        edgecolor=\"black\",\n",
    "    )\n",
    "    plt.xlim(xx.min(), xx.max())\n",
    "    plt.ylim(yy.min(), yy.max())\n",
    "    plt.title(\n",
    "        \"3-Class classification (k = %i, weights = '%s')\" % (n_neighbors, weights)\n",
    "    )\n",
    "    plt.xlabel(iris.feature_names[0])\n",
    "    plt.ylabel(iris.feature_names[1])\n",
    "\n",
    "plt.show()'''"
   ]
  }
 ],
 "metadata": {
  "interpreter": {
   "hash": "9955c4e35847634d973329bf445c8e90329a92ad370b10f6eeb5c7b011ef9473"
  },
  "kernelspec": {
   "display_name": "Python 3.10.4 64-bit (windows store)",
   "language": "python",
   "name": "python3"
  },
  "language_info": {
   "codemirror_mode": {
    "name": "ipython",
    "version": 3
   },
   "file_extension": ".py",
   "mimetype": "text/x-python",
   "name": "python",
   "nbconvert_exporter": "python",
   "pygments_lexer": "ipython3",
   "version": "3.10.4"
  },
  "orig_nbformat": 4
 },
 "nbformat": 4,
 "nbformat_minor": 2
}
