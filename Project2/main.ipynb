{
 "cells": [
  {
   "cell_type": "code",
   "execution_count": 2,
   "metadata": {},
   "outputs": [],
   "source": [
    "import numpy as np\n",
    "import pandas as pd\n",
    "import os"
   ]
  },
  {
   "cell_type": "code",
   "execution_count": 3,
   "metadata": {},
   "outputs": [],
   "source": [
    "from sklearn.preprocessing import StandardScaler\n",
    "def read(filepath):\n",
    "    try:\n",
    "        df = pd.DataFrame(columns=['number', 'id', 'time_sequence'])\n",
    "        lines = [line.strip() for line in open(filepath,'r')]\n",
    "        number = int(lines[1].split(\" \")[3])\n",
    "        id = int(lines[2].split(\" \")[3])\n",
    "        matrix = []\n",
    "        for i in range(5,len(lines)):\n",
    "            line = lines[i].split(\",\")\n",
    "            line = np.array(line).astype(np.float64)\n",
    "            matrix.append([ *line[:3]])\n",
    "        matrix=StandardScaler().fit_transform(matrix)\n",
    "        \n",
    "        df.loc[0] = [number, id, matrix]\n",
    "        return df\n",
    "    except IOError as e:\n",
    "        print(\"Unable to read dataset file!\\n\")"
   ]
  },
  {
   "cell_type": "code",
   "execution_count": 4,
   "metadata": {},
   "outputs": [],
   "source": [
    "directory = 'Sketch-Data-master\\SketchData\\SketchData\\Domain01'\n",
    "\n",
    "df = pd.DataFrame(columns=['number', 'id', 'time_sequence'])\n",
    "for filename in os.listdir(directory):\n",
    "    f = os.path.join(directory, filename)\n",
    "    # checking if it is a file\n",
    "    if os.path.isfile(f):\n",
    "        df=pd.concat([df,read(f)], ignore_index=True)\n",
    "        '''le = len(read(f)[\"time_sequence\"].values[0])\n",
    "        if min > le:\n",
    "            if le==31:\n",
    "                print(f)\n",
    "            min = le'''\n",
    "# min = 31\n",
    "#print(df)\n",
    "#df=preprocess(df)\n",
    "#print(df)"
   ]
  },
  {
   "cell_type": "code",
   "execution_count": 4,
   "metadata": {},
   "outputs": [],
   "source": [
    "def cross_validation_split():\n",
    "    dataset_split = []\n",
    "    for i in range(10):\n",
    "        fold=[x for x in range(100*i, 100*(i+1))]\n",
    "        other=[x for x in range(1000) if x not in fold]\n",
    "        dataset_split+=[(fold,other)]\n",
    "    return dataset_split\n"
   ]
  },
  {
   "cell_type": "code",
   "execution_count": 5,
   "metadata": {},
   "outputs": [],
   "source": [
    "\n",
    "def DTWdistance(data1,data2, w):\n",
    "    n=len(data1)\n",
    "    m=len(data2)\n",
    "    data2=StandardScaler().fit_transform(data2)\n",
    "\n",
    "    DTW=np.zeros((n,m))\n",
    "    w=max(w,abs(n-m))\n",
    "\n",
    "    for i in range(n):\n",
    "        for j in range(m):\n",
    "            DTW[i,j]=np.inf\n",
    "    DTW[0,0]=0\n",
    "\n",
    "    for i in range(1,n):\n",
    "        for j in range(max(1,i-w),min(m,i+w)):\n",
    "            DTW[i,j]=0\n",
    "    \n",
    "    for i in range(1,n):\n",
    "        for j in range(max(1,i-w),min(m,i+w)):\n",
    "            cost=distance(data1[i],data2[j])\n",
    "            DTW[i,j]=cost+np.min([DTW[i-1,j],#insertion\n",
    "                                DTW[i,j-1],#deletion\n",
    "                                DTW[i-1,j-1]])#match\n",
    "    \n",
    "    return DTW[n-1,m-1]\n",
    "\n",
    "def distance(a,b):\n",
    "    return np.linalg.norm(np.absolute(np.array(a)-np.array(b)))"
   ]
  },
  {
   "cell_type": "code",
   "execution_count": 23,
   "metadata": {},
   "outputs": [
    {
     "name": "stdout",
     "output_type": "stream",
     "text": [
      "76.88554427518726\n",
      "76.88554427518713\n",
      "75.83859355552445\n",
      "75.83859355552444\n",
      "96.37773633895833\n",
      "96.37773633895824\n",
      "57.3736239673831\n",
      "57.37362396738302\n",
      "105.0731593997095\n",
      "105.07315939970923\n"
     ]
    }
   ],
   "source": [
    "print(DTWdistance(df['time_sequence'][0],df['time_sequence'][1],1000))\n",
    "print(DTWdistance(df['time_sequence'][1],df['time_sequence'][0],1000))\n",
    "print(DTWdistance(df['time_sequence'][80],df['time_sequence'][81],100))\n",
    "print(DTWdistance(df['time_sequence'][81],df['time_sequence'][80],100))\n",
    "print(DTWdistance(df['time_sequence'][200],df['time_sequence'][281],100))\n",
    "print(DTWdistance(df['time_sequence'][281],df['time_sequence'][200],100))\n",
    "print(DTWdistance(df['time_sequence'][800],df['time_sequence'][810],100))\n",
    "print(DTWdistance(df['time_sequence'][810],df['time_sequence'][800],100))\n",
    "print(DTWdistance(df['time_sequence'][80],df['time_sequence'][810],100))\n",
    "print(DTWdistance(df['time_sequence'][810],df['time_sequence'][80],100))"
   ]
  },
  {
   "cell_type": "code",
   "execution_count": 24,
   "metadata": {},
   "outputs": [],
   "source": [
    "def get_neighbors(train, test_row, num_neighbors):\n",
    "\tdistances = list()\n",
    "\tfor train_row in train:\n",
    "\t\tdist = DTWdistance(test_row, train_row)\n",
    "\t\tdistances.append((train_row, dist))\n",
    "\tdistances.sort(key=lambda tup: tup[1])\n",
    "\tneighbors = list()\n",
    "\tfor i in range(num_neighbors):\n",
    "\t\tneighbors.append(distances[i][0])\n",
    "\treturn neighbors"
   ]
  },
  {
   "cell_type": "code",
   "execution_count": 25,
   "metadata": {},
   "outputs": [],
   "source": [
    "def dist_matrix(x):\n",
    "    dist_m = np.zeros((x.shape[0],x.shape[0]))\n",
    "    for i in range(x.shape[0]):\n",
    "        for j in range(i+1,x.shape[0]):\n",
    "            dist_m[i,j]=DTWdistance(x[i],x[j],100)\n",
    "            dist_m[j,i]=dist_m[i,j]\n",
    "        if i%50==0:\n",
    "            print(i/10, \"%\")\n",
    "    return dist_m\n",
    "\n"
   ]
  },
  {
   "cell_type": "code",
   "execution_count": 11,
   "metadata": {},
   "outputs": [],
   "source": [
    "#X = df[\"time_sequence\"].array\n",
    "#X=dist_matrix(X)\n",
    "#np.savetxt(\"dist_matrix2.csv\",X,delimiter=\",\")\n",
    "#print(X)\n",
    "X=np.genfromtxt(\"dist_matrix2.csv\",delimiter=\",\")\n",
    "for i in range(len(X)):\n",
    "    for j in range(len(X[i])):\n",
    "        if(X[i,j]==np.inf):\n",
    "            X[i,j]=99999999\n",
    "y = np.array(df[\"number\"].array,dtype=float)"
   ]
  },
  {
   "cell_type": "code",
   "execution_count": 12,
   "metadata": {},
   "outputs": [
    {
     "name": "stdout",
     "output_type": "stream",
     "text": [
      "Average accuracy KNN = 0.925\n",
      "Standard Deviation KNN = 0.07017834423809098\n",
      "Median KNN = 0.945\n",
      "[0.87, 0.99, 1.0, 0.93, 0.79, 0.82, 0.94, 0.97, 0.95, 0.99]\n"
     ]
    },
    {
     "data": {
      "text/plain": [
       "'h = 0.02  # step size in the mesh\\n\\n# Create color maps\\ncmap_light = ListedColormap([\"orange\", \"cyan\", \"cornflowerblue\"])\\ncmap_bold = [\"darkorange\", \"c\", \"darkblue\"]\\n\\nfor weights in [DTWdistance]:\\n    # we create an instance of Neighbours Classifier and fit the data.\\n    clf = neighbors.KNeighborsClassifier(n_neighbors, weights=weights, metric=DTWdistance)\\n    clf.fit(X, y)\\n\\n    # Plot the decision boundary. For that, we will assign a color to each\\n    # point in the mesh [x_min, x_max]x[y_min, y_max].\\n    x_min, x_max = X[:, 0].min() - 1, X[:, 0].max() + 1\\n    y_min, y_max = X[:, 1].min() - 1, X[:, 1].max() + 1\\n    xx, yy = np.meshgrid(np.arange(x_min, x_max, h), np.arange(y_min, y_max, h))\\n    Z = clf.predict(np.c_[xx.ravel(), yy.ravel()])\\n\\n    # Put the result into a color plot\\n    Z = Z.reshape(xx.shape)\\n    plt.figure(figsize=(8, 6))\\n    plt.contourf(xx, yy, Z) #cmap=cmap_light)\\n\\n    # Plot also the training points\\n    sns.scatterplot(\\n        x=X[:, 0],\\n        y=X[:, 1],\\n        #hue=iris.target_names[y],\\n        palette=cmap_bold,\\n        alpha=1.0,\\n        edgecolor=\"black\",\\n    )\\n    plt.xlim(xx.min(), xx.max())\\n    plt.ylim(yy.min(), yy.max())\\n    plt.title(\\n        \"3-Class classification (k = %i, weights = \\'%s\\')\" % (n_neighbors, weights)\\n    )\\n    plt.xlabel(iris.feature_names[0])\\n    plt.ylabel(iris.feature_names[1])\\n\\nplt.show()'"
      ]
     },
     "execution_count": 12,
     "metadata": {},
     "output_type": "execute_result"
    },
    {
     "data": {
      "image/png": "[encoded data removed]",
      "text/plain": [
       "<Figure size 432x288 with 2 Axes>"
      ]
     },
     "metadata": {
      "needs_background": "light"
     },
     "output_type": "display_data"
    }
   ],
   "source": [
    "import matplotlib.pyplot as plt\n",
    "import seaborn as sns\n",
    "from matplotlib.colors import ListedColormap\n",
    "from sklearn import neighbors, datasets\n",
    "from sklearn.svm import SVC\n",
    "from sklearn.metrics import confusion_matrix, ConfusionMatrixDisplay\n",
    "\n",
    "n_neighbors = 5\n",
    "\n",
    "# we only take the first two features. We could avoid this ugly\n",
    "# slicing by using a two-dim dataset\n",
    "\n",
    "scores_KNN=[]\n",
    "scores_SVC=[]\n",
    "conf_matrix=np.zeros((10,10))\n",
    "for test_ind, train_ind in cross_validation_split():\n",
    "    x_train, y_train = X[train_ind], y[train_ind]\n",
    "    x_train=x_train[:,train_ind]\n",
    "    x_test, y_test = X[test_ind], y[test_ind]\n",
    "    x_test=x_test[:,train_ind]\n",
    "    #print(x_train)\n",
    "    clf = neighbors.KNeighborsClassifier(n_neighbors, metric=\"precomputed\")\n",
    "    clf.fit(x_train, y_train)\n",
    "    scores_KNN+=[clf.score(x_test,y_test)]\n",
    "    conf_matrix+=confusion_matrix(y_test,clf.predict(x_test))\n",
    "    #sv=SVC(kernel='precomputed',C=1000, gamma='auto')\n",
    "    #sv.fit(x_train,y_train)\n",
    "    #scores_SVC+=[sv.score(x_test,y_test)]\n",
    "\n",
    "print(\"Average accuracy KNN = \"+str(np.mean(scores_KNN)))\n",
    "print(\"Standard Deviation KNN = \"+str(np.std(scores_KNN)))\n",
    "print(\"Median KNN = \"+str(np.median(scores_KNN)))\n",
    "print(scores_KNN)\n",
    "disp=ConfusionMatrixDisplay(conf_matrix)\n",
    "disp.plot()\n",
    "\n",
    "#print(\"Average accuracy SVC = \"+str(np.mean(scores_SVC)))\n",
    "#print(\"Standard Deviation SVC = \"+str(np.std(scores_SVC)))\n",
    "#print(scores_SVC)\n",
    "\n",
    "\n",
    "'''h = 0.02  # step size in the mesh\n",
    "\n",
    "# Create color maps\n",
    "cmap_light = ListedColormap([\"orange\", \"cyan\", \"cornflowerblue\"])\n",
    "cmap_bold = [\"darkorange\", \"c\", \"darkblue\"]\n",
    "\n",
    "for weights in [DTWdistance]:\n",
    "    # we create an instance of Neighbours Classifier and fit the data.\n",
    "    clf = neighbors.KNeighborsClassifier(n_neighbors, weights=weights, metric=DTWdistance)\n",
    "    clf.fit(X, y)\n",
    "\n",
    "    # Plot the decision boundary. For that, we will assign a color to each\n",
    "    # point in the mesh [x_min, x_max]x[y_min, y_max].\n",
    "    x_min, x_max = X[:, 0].min() - 1, X[:, 0].max() + 1\n",
    "    y_min, y_max = X[:, 1].min() - 1, X[:, 1].max() + 1\n",
    "    xx, yy = np.meshgrid(np.arange(x_min, x_max, h), np.arange(y_min, y_max, h))\n",
    "    Z = clf.predict(np.c_[xx.ravel(), yy.ravel()])\n",
    "\n",
    "    # Put the result into a color plot\n",
    "    Z = Z.reshape(xx.shape)\n",
    "    plt.figure(figsize=(8, 6))\n",
    "    plt.contourf(xx, yy, Z) #cmap=cmap_light)\n",
    "\n",
    "    # Plot also the training points\n",
    "    sns.scatterplot(\n",
    "        x=X[:, 0],\n",
    "        y=X[:, 1],\n",
    "        #hue=iris.target_names[y],\n",
    "        palette=cmap_bold,\n",
    "        alpha=1.0,\n",
    "        edgecolor=\"black\",\n",
    "    )\n",
    "    plt.xlim(xx.min(), xx.max())\n",
    "    plt.ylim(yy.min(), yy.max())\n",
    "    plt.title(\n",
    "        \"3-Class classification (k = %i, weights = '%s')\" % (n_neighbors, weights)\n",
    "    )\n",
    "    plt.xlabel(iris.feature_names[0])\n",
    "    plt.ylabel(iris.feature_names[1])\n",
    "\n",
    "plt.show()'''"
   ]
  },
  {
   "cell_type": "markdown",
   "metadata": {},
   "source": [
    "## Dollar Recognizer"
   ]
  },
  {
   "cell_type": "code",
   "execution_count": 1,
   "metadata": {},
   "outputs": [],
   "source": [
    "from DollarRecognizer import Recognizer, Template, Point"
   ]
  },
  {
   "cell_type": "code",
   "execution_count": 29,
   "metadata": {},
   "outputs": [
    {
     "name": "stdout",
     "output_type": "stream",
     "text": [
      "('1', 0.999447865760563)\n",
      "('1', 0.9995776487982521)\n",
      "('1', 0.9995540719582829)\n",
      "('2', 0.6953319835016216)\n",
      "('2', 0.7628727299414839)\n",
      "('2', 0.5367311570106308)\n",
      "('2', 0.5527146920206677)\n",
      "('2', 0.999431538273174)\n",
      "('2', 0.9995399447009371)\n",
      "('2', 0.999612342495246)\n",
      "('2', 0.9995069866386862)\n",
      "('2', 0.9995299024321598)\n",
      "('2', 0.9995761066186677)\n",
      "('2', 0.9996252295133263)\n"
     ]
    }
   ],
   "source": [
    "tmpl_1 = Template('1',df['time_sequence'][100])\n",
    "tmpl_2 = Template('2',df['time_sequence'][110])\n",
    "tmpl_3 = Template('3',df['time_sequence'][120])\n",
    "recognizer = Recognizer([tmpl_1, tmpl_2, tmpl_3])\n",
    "result = recognizer.recognize(df['time_sequence'][0])\n",
    "print(result)\n",
    "result = recognizer.recognize(df['time_sequence'][100])\n",
    "print(result)\n",
    "result = recognizer.recognize(df['time_sequence'][200])\n",
    "print(result)\n",
    "result = recognizer.recognize(df['time_sequence'][300])\n",
    "print(result)\n",
    "result = recognizer.recognize(df['time_sequence'][400])\n",
    "print(result)\n",
    "result = recognizer.recognize(df['time_sequence'][500])\n",
    "print(result)\n",
    "result = recognizer.recognize(df['time_sequence'][600])\n",
    "print(result)\n",
    "result = recognizer.recognize(df['time_sequence'][10])\n",
    "print(result)\n",
    "result = recognizer.recognize(df['time_sequence'][110])\n",
    "print(result)\n",
    "result = recognizer.recognize(df['time_sequence'][210])\n",
    "print(result)\n",
    "result = recognizer.recognize(df['time_sequence'][310])\n",
    "print(result)\n",
    "result = recognizer.recognize(df['time_sequence'][410])\n",
    "print(result)\n",
    "result = recognizer.recognize(df['time_sequence'][510])\n",
    "print(result)\n",
    "result = recognizer.recognize(df['time_sequence'][610])\n",
    "print(result)"
   ]
  }
 ],
 "metadata": {
  "interpreter": {
   "hash": "07878c45a9b18549480ac2f9ecb8f16bb7162456cf654f6757bcff1d6396abe7"
  },
  "kernelspec": {
   "display_name": "Python 3.9.7 ('base')",
   "language": "python",
   "name": "python3"
  },
  "language_info": {
   "codemirror_mode": {
    "name": "ipython",
    "version": 3
   },
   "file_extension": ".py",
   "mimetype": "text/x-python",
   "name": "python",
   "nbconvert_exporter": "python",
   "pygments_lexer": "ipython3",
   "version": "3.9.7"
  },
  "orig_nbformat": 4
 },
 "nbformat": 4,
 "nbformat_minor": 2
}
