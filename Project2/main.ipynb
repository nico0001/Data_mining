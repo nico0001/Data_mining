{
 "cells": [
  {
   "cell_type": "code",
   "execution_count": 45,
   "metadata": {},
   "outputs": [],
   "source": [
    "import numpy as np\n",
    "import pandas as pd\n",
    "import os"
   ]
  },
  {
   "cell_type": "code",
   "execution_count": 46,
   "metadata": {},
   "outputs": [],
   "source": [
    "def read(filepath):\n",
    "    try:\n",
    "        df = pd.DataFrame(columns=['number', 'id', 'time_sequence'])\n",
    "        lines = [line.strip() for line in open(filepath,'r')]\n",
    "        number = int(lines[1].split(\" \")[3])\n",
    "        id = int(lines[2].split(\" \")[3])\n",
    "        matrix = []\n",
    "        for i in range(5,len(lines)):\n",
    "            line = lines[i].split(\",\")\n",
    "            line = np.array(line).astype(np.float64)\n",
    "            matrix.append([line[3], *line[:3]])\n",
    "        df.loc[0] = [number, id, matrix]\n",
    "        return df\n",
    "    except IOError as e:\n",
    "        print(\"Unable to read dataset file!\\n\")"
   ]
  },
  {
   "cell_type": "code",
   "execution_count": 48,
   "metadata": {},
   "outputs": [],
   "source": [
    "directory = 'Sketch-Data-master\\SketchData\\SketchData\\Domain01'\n",
    "\n",
    "df = pd.DataFrame(columns=['number', 'id', 'time_sequence'])\n",
    "for filename in os.listdir(directory):\n",
    "    f = os.path.join(directory, filename)\n",
    "    # checking if it is a file\n",
    "    if os.path.isfile(f):\n",
    "        df=pd.concat([df,read(f)], ignore_index=True)\n",
    "        '''le = len(read(f)[\"time_sequence\"].values[0])\n",
    "        if min > le:\n",
    "            if le==31:\n",
    "                print(f)\n",
    "            min = le'''\n",
    "# min = 31\n",
    "#print(df)\n",
    "#df=preprocess(df)\n",
    "#print(df)"
   ]
  },
  {
   "cell_type": "code",
   "execution_count": 49,
   "metadata": {},
   "outputs": [],
   "source": [
    "def cross_validation_split():\n",
    "    dataset_split = []\n",
    "    for i in range(10):\n",
    "        fold=[x for x in range(100*i, 100*(i+1))]\n",
    "        other=[x for x in range(1000) if x not in fold]\n",
    "        dataset_split+=[(fold,other)]\n",
    "    return dataset_split\n"
   ]
  },
  {
   "cell_type": "code",
   "execution_count": 50,
   "metadata": {},
   "outputs": [],
   "source": [
    "def DTWdistance(data1,data2, w):\n",
    "    n=len(data1)\n",
    "    m=len(data2)\n",
    "    DTW=np.zeros((n,m))\n",
    "    w=max(w,abs(n-m))\n",
    "\n",
    "    for i in range(n):\n",
    "        for j in range(m):\n",
    "            DTW[i,j]=999999\n",
    "    DTW[0,0]=0\n",
    "\n",
    "    for i in range(1,n):\n",
    "        for j in range(max(1,i-w),min(m,i+w)):\n",
    "            DTW[i,j]=0\n",
    "    \n",
    "    for i in range(1,n):\n",
    "        for j in range(max(1,i-w),min(m,i+w)):\n",
    "            cost=distance(data1[i],data2[j])\n",
    "            DTW[i,j]=cost+np.min([DTW[i-1,j],#insertion\n",
    "                                DTW[i,j-1],#deletion\n",
    "                                DTW[i-1,j-1]])#match\n",
    "    \n",
    "    return DTW[n-1,m-1]\n",
    "\n",
    "def distance(a,b):\n",
    "    return np.linalg.norm(np.array(a)-np.array(b))"
   ]
  },
  {
   "cell_type": "code",
   "execution_count": 55,
   "metadata": {},
   "outputs": [
    {
     "name": "stdout",
     "output_type": "stream",
     "text": [
      "2435.124437022203\n",
      "2435.124437022203\n",
      "400.0445873857085\n",
      "400.0445873857085\n",
      "6577.581854753022\n",
      "6577.581854753022\n",
      "4720.174645735174\n",
      "4720.174645735174\n",
      "21686.088036939735\n",
      "21686.088036939735\n"
     ]
    }
   ],
   "source": [
    "print(DTWdistance(df['time_sequence'][0],df['time_sequence'][1],1000))\n",
    "print(DTWdistance(df['time_sequence'][1],df['time_sequence'][0],1000))\n",
    "print(DTWdistance(df['time_sequence'][80],df['time_sequence'][81],100))\n",
    "print(DTWdistance(df['time_sequence'][81],df['time_sequence'][80],100))\n",
    "print(DTWdistance(df['time_sequence'][200],df['time_sequence'][281],100))\n",
    "print(DTWdistance(df['time_sequence'][281],df['time_sequence'][200],100))\n",
    "print(DTWdistance(df['time_sequence'][800],df['time_sequence'][810],100))\n",
    "print(DTWdistance(df['time_sequence'][810],df['time_sequence'][800],100))\n",
    "print(DTWdistance(df['time_sequence'][80],df['time_sequence'][810],100))\n",
    "print(DTWdistance(df['time_sequence'][810],df['time_sequence'][80],100))"
   ]
  },
  {
   "cell_type": "code",
   "execution_count": 52,
   "metadata": {},
   "outputs": [],
   "source": [
    "def get_neighbors(train, test_row, num_neighbors):\n",
    "\tdistances = list()\n",
    "\tfor train_row in train:\n",
    "\t\tdist = DTWdistance(test_row, train_row)\n",
    "\t\tdistances.append((train_row, dist))\n",
    "\tdistances.sort(key=lambda tup: tup[1])\n",
    "\tneighbors = list()\n",
    "\tfor i in range(num_neighbors):\n",
    "\t\tneighbors.append(distances[i][0])\n",
    "\treturn neighbors"
   ]
  },
  {
   "cell_type": "code",
   "execution_count": 53,
   "metadata": {},
   "outputs": [],
   "source": [
    "def dist_matrix(x):\n",
    "    dist_m = np.zeros((x.shape[0],x.shape[0]))\n",
    "    for i in range(x.shape[0]):\n",
    "        for j in range(i+1,x.shape[0]):\n",
    "            dist_m[i,j]=DTWdistance(x[i],x[j],100)\n",
    "            dist_m[j,i]=dist_m[i,j]\n",
    "        if i%50==0:\n",
    "            print(i/10, \"%\")\n",
    "    return dist_m\n",
    "\n"
   ]
  },
  {
   "cell_type": "code",
   "execution_count": 54,
   "metadata": {},
   "outputs": [
    {
     "name": "stdout",
     "output_type": "stream",
     "text": [
      "Average accuracy = 0.211\n",
      "Standard Deviation = 0.06441273166075168\n",
      "[0.13, 0.18, 0.13, 0.19, 0.25, 0.22, 0.25, 0.34, 0.15, 0.27]\n"
     ]
    },
    {
     "data": {
      "text/plain": [
       "'h = 0.02  # step size in the mesh\\n\\n# Create color maps\\ncmap_light = ListedColormap([\"orange\", \"cyan\", \"cornflowerblue\"])\\ncmap_bold = [\"darkorange\", \"c\", \"darkblue\"]\\n\\nfor weights in [DTWdistance]:\\n    # we create an instance of Neighbours Classifier and fit the data.\\n    clf = neighbors.KNeighborsClassifier(n_neighbors, weights=weights, metric=DTWdistance)\\n    clf.fit(X, y)\\n\\n    # Plot the decision boundary. For that, we will assign a color to each\\n    # point in the mesh [x_min, x_max]x[y_min, y_max].\\n    x_min, x_max = X[:, 0].min() - 1, X[:, 0].max() + 1\\n    y_min, y_max = X[:, 1].min() - 1, X[:, 1].max() + 1\\n    xx, yy = np.meshgrid(np.arange(x_min, x_max, h), np.arange(y_min, y_max, h))\\n    Z = clf.predict(np.c_[xx.ravel(), yy.ravel()])\\n\\n    # Put the result into a color plot\\n    Z = Z.reshape(xx.shape)\\n    plt.figure(figsize=(8, 6))\\n    plt.contourf(xx, yy, Z) #cmap=cmap_light)\\n\\n    # Plot also the training points\\n    sns.scatterplot(\\n        x=X[:, 0],\\n        y=X[:, 1],\\n        #hue=iris.target_names[y],\\n        palette=cmap_bold,\\n        alpha=1.0,\\n        edgecolor=\"black\",\\n    )\\n    plt.xlim(xx.min(), xx.max())\\n    plt.ylim(yy.min(), yy.max())\\n    plt.title(\\n        \"3-Class classification (k = %i, weights = \\'%s\\')\" % (n_neighbors, weights)\\n    )\\n    plt.xlabel(iris.feature_names[0])\\n    plt.ylabel(iris.feature_names[1])\\n\\nplt.show()'"
      ]
     },
     "execution_count": 54,
     "metadata": {},
     "output_type": "execute_result"
    }
   ],
   "source": [
    "import matplotlib.pyplot as plt\n",
    "import seaborn as sns\n",
    "from matplotlib.colors import ListedColormap\n",
    "from sklearn import neighbors, datasets\n",
    "\n",
    "n_neighbors = 50\n",
    "\n",
    "# we only take the first two features. We could avoid this ugly\n",
    "# slicing by using a two-dim dataset\n",
    "#X = df[\"time_sequence\"].array\n",
    "#X=dist_matrix(X)\n",
    "#np.savetxt(\"dist_matrix.csv\",X,delimiter=\",\")\n",
    "#print(X)\n",
    "X=np.genfromtxt(\"dist_matrix.csv\",delimiter=\",\")\n",
    "y = np.array(df[\"number\"].array,dtype=float)\n",
    "scores=[]\n",
    "for test_ind, train_ind in cross_validation_split():\n",
    "    x_train, y_train = X[train_ind], y[train_ind]\n",
    "    x_train=x_train[:,train_ind]\n",
    "    x_test, y_test = X[test_ind], y[test_ind]\n",
    "    x_test=x_test[:,train_ind]\n",
    "    #print(x_train)\n",
    "    clf = neighbors.KNeighborsClassifier(n_neighbors, metric=\"precomputed\")\n",
    "    clf.fit(x_train, y_train)\n",
    "    scores+=[clf.score(x_test,y_test)]\n",
    "\n",
    "print(\"Average accuracy = \"+str(np.mean(scores)))\n",
    "print(\"Standard Deviation = \"+str(np.std(scores)))\n",
    "print(scores)\n",
    "\n",
    "\n",
    "'''h = 0.02  # step size in the mesh\n",
    "\n",
    "# Create color maps\n",
    "cmap_light = ListedColormap([\"orange\", \"cyan\", \"cornflowerblue\"])\n",
    "cmap_bold = [\"darkorange\", \"c\", \"darkblue\"]\n",
    "\n",
    "for weights in [DTWdistance]:\n",
    "    # we create an instance of Neighbours Classifier and fit the data.\n",
    "    clf = neighbors.KNeighborsClassifier(n_neighbors, weights=weights, metric=DTWdistance)\n",
    "    clf.fit(X, y)\n",
    "\n",
    "    # Plot the decision boundary. For that, we will assign a color to each\n",
    "    # point in the mesh [x_min, x_max]x[y_min, y_max].\n",
    "    x_min, x_max = X[:, 0].min() - 1, X[:, 0].max() + 1\n",
    "    y_min, y_max = X[:, 1].min() - 1, X[:, 1].max() + 1\n",
    "    xx, yy = np.meshgrid(np.arange(x_min, x_max, h), np.arange(y_min, y_max, h))\n",
    "    Z = clf.predict(np.c_[xx.ravel(), yy.ravel()])\n",
    "\n",
    "    # Put the result into a color plot\n",
    "    Z = Z.reshape(xx.shape)\n",
    "    plt.figure(figsize=(8, 6))\n",
    "    plt.contourf(xx, yy, Z) #cmap=cmap_light)\n",
    "\n",
    "    # Plot also the training points\n",
    "    sns.scatterplot(\n",
    "        x=X[:, 0],\n",
    "        y=X[:, 1],\n",
    "        #hue=iris.target_names[y],\n",
    "        palette=cmap_bold,\n",
    "        alpha=1.0,\n",
    "        edgecolor=\"black\",\n",
    "    )\n",
    "    plt.xlim(xx.min(), xx.max())\n",
    "    plt.ylim(yy.min(), yy.max())\n",
    "    plt.title(\n",
    "        \"3-Class classification (k = %i, weights = '%s')\" % (n_neighbors, weights)\n",
    "    )\n",
    "    plt.xlabel(iris.feature_names[0])\n",
    "    plt.ylabel(iris.feature_names[1])\n",
    "\n",
    "plt.show()'''"
   ]
  }
 ],
 "metadata": {
  "interpreter": {
   "hash": "9955c4e35847634d973329bf445c8e90329a92ad370b10f6eeb5c7b011ef9473"
  },
  "kernelspec": {
   "display_name": "Python 3.10.4 64-bit (windows store)",
   "language": "python",
   "name": "python3"
  },
  "language_info": {
   "codemirror_mode": {
    "name": "ipython",
    "version": 3
   },
   "file_extension": ".py",
   "mimetype": "text/x-python",
   "name": "python",
   "nbconvert_exporter": "python",
   "pygments_lexer": "ipython3",
   "version": "3.10.4"
  },
  "orig_nbformat": 4
 },
 "nbformat": 4,
 "nbformat_minor": 2
}
